{
 "cells": [
  {
   "cell_type": "code",
   "execution_count": 1,
   "metadata": {},
   "outputs": [],
   "source": [
    "# Import required modules\n",
    "import pandas as pd\n",
    "import requests\n",
    "from bs4 import BeautifulSoup\n",
    "from concurrent.futures import ThreadPoolExecutor\n",
    "import re\n",
    "import numpy as np\n",
    "import itertools\n",
    "from datetime import datetime\n",
    "today = datetime.today().date().strftime(\"%d_%b\")"
   ]
  },
  {
   "cell_type": "code",
   "execution_count": 2,
   "metadata": {},
   "outputs": [],
   "source": [
    "def generateCoverPageLink(url):\n",
    "    \"\"\"Returns sub category cover page links.\"\"\"\n",
    "    \n",
    "    coverPageLink = []\n",
    "    headers = {'User-Agent': 'Mozilla/5.0 (Macintosh; Intel Mac OS X 10_11_6) AppleWebKit/537.36 (KHTML, like Gecko) Chrome/61.0.3163.100 Safari/537.36'}\n",
    "    r = requests.get(url, headers=headers)\n",
    "    s = BeautifulSoup(r.text, \"lxml\")\n",
    "    for lnk in s.find_all(\"li\", class_=\"subjects\"):\n",
    "        coverPageLink.append(lnk.find(\"a\").get(\"href\"))\n",
    "        \n",
    "    # Drop string \"virtual-classrooms\" from the scraped urls if any\n",
    "    coverPageLink = list(map(lambda lnk: lnk.replace(\"virtual-classrooms/\", \"\"), coverPageLink))\n",
    "    return coverPageLink\n",
    "\n",
    "\n",
    "\n",
    "def createPagination(url):\n",
    "    \"\"\"Creates pagenation for cover page links.\n",
    "    url is cover page links and must be iterable.\"\"\"\n",
    "    \n",
    "    allCoverPageLink = []\n",
    "    headers = {'User-Agent': 'Mozilla/5.0 (Macintosh; Intel Mac OS X 10_11_6) AppleWebKit/537.36 (KHTML, like Gecko) Chrome/61.0.3163.100 Safari/537.36'}\n",
    "    \n",
    "    # To suppress none type text error\n",
    "    try:\n",
    "        r = requests.get(url,headers=headers)\n",
    "        s = BeautifulSoup(r.text, \"lxml\")\n",
    "        totalCourse = s.find(id=\"coursecountblocks\").text\n",
    "        intTotalCourse = int(\"\".join(re.findall(r\"[0-9]+\", totalCourse)))\n",
    "        stopPage = int(np.ceil(intTotalCourse/5))\n",
    "        \n",
    "        # Iterate untill stop page to create pagination\n",
    "        for page in range(1, stopPage+1):\n",
    "            allCoverPageLink.append(url+f\"/?page={page}\")\n",
    "    except:\n",
    "        pass\n",
    "    return allCoverPageLink\n",
    "\n",
    "\n",
    "def scrapeCourseInfo(url):\n",
    "    \"\"\"Scrape all the course info. url must be iterable.\"\"\"\n",
    "    \n",
    "    # Variables to scrape\n",
    "    courseTitle= []\n",
    "    courseLink = []\n",
    "    courseProvider = []\n",
    "    offerPrice = []\n",
    "    duration = []\n",
    "    coverPageLink = []\n",
    "    status = []\n",
    "    \n",
    "    headers = {\"User-Agent\": \"Mozilla/5.0 (Macintosh; Intel Mac OS X 10_11_6) AppleWebKit/537.36 (KHTML, like Gecko) Chrome/61.0.3163.100 Safari/537.36\"}\n",
    "    r = requests.get(url, headers=headers)\n",
    "    s = BeautifulSoup(r.text, \"lxml\")\n",
    "    \n",
    "    \"\"\"We might have either active deal or inactive deal.\"\"\"\n",
    "    # Main container for active deal\n",
    "    activeMainCont = s.find_all(\"div\",class_=\"courses-box prospectsactive\")\n",
    "    # Main container for inactive deal\n",
    "    inActiveMainCont = s.find_all(\"div\",class_=\"courses-box nonactive\")\n",
    "    \n",
    "    # Scrape course courseTitle\n",
    "    # If the deal is currently active\n",
    "    if activeMainCont:\n",
    "            for z in activeMainCont:\n",
    "                try:\n",
    "                    # Scrape course title. Based on the presence of title, extract deal status.\n",
    "                    # If activactiveMainCont is present, deal is currently active.\n",
    "                    for tlt1 in z.find_all(\"span\", class_=\"truncate\"):\n",
    "                        courseTitle.append(tlt1.text.strip())\n",
    "                        status.append(\"active\")\n",
    "                    \n",
    "                    # Scrape course provider\n",
    "                    for prvdr1 in z.find_all(\"h2\"):\n",
    "                        for prvdr2 in prvdr1.find_all(\"small\"):\n",
    "                            courseProvider.append(prvdr2.text.strip())\n",
    "                    \n",
    "                    # Scrape course duration\n",
    "                    for drtn1 in z.find_all(\"span\", class_=\"info2\"):\n",
    "                        duration.append(drtn1.find(\"strong\").text.strip())\n",
    "                    \n",
    "                    # Scrape offer price\n",
    "                    offerPrice.append(z.text.strip())\n",
    "                    \n",
    "                    # Scrape individual course links\n",
    "                    courseLink.append(z.find(\"h2\").find(\"a\").get(\"href\"))\n",
    "                            \n",
    "                # Execute this block is deal is missing\n",
    "                except:\n",
    "                    courseTitle.append(\"na\")\n",
    "                    courseProvider.append(\"na\")\n",
    "                    duration.append(\"na\")\n",
    "                    offerPrice.append(\"na\")\n",
    "                    courseLink.append(\"na\")\n",
    "                    \n",
    "                    \n",
    "    # If the deal in currently inactive.             \n",
    "    if inActiveMainCont:\n",
    "            for z in inActiveMainCont:\n",
    "                try:\n",
    "                    # Scrape course title. Based on the presence of title, extract deal status.\n",
    "                    # If inActiveMainCont is present, deal is currently inactive.\n",
    "                    for tlt1 in z.find_all(\"span\", class_=\"truncate\"):\n",
    "                        courseTitle.append(tlt1.text.strip())\n",
    "                        status.append(\"inactive\")\n",
    "                    \n",
    "                    # Scrape course provider\n",
    "                    for prvdr1 in z.find_all(\"h2\"):\n",
    "                        for prvdr2 in prvdr1.find_all(\"small\"):\n",
    "                            courseProvider.append(prvdr2.text.strip())\n",
    "                    \n",
    "                    # Scrape course duration\n",
    "                    for drtn1 in z.find_all(\"span\", class_=\"info2\"):\n",
    "                        duration.append(drtn1.find(\"strong\").text.strip())\n",
    "                        \n",
    "                    # Scrape offer price\n",
    "                    offerPrice.append(z.text.strip())\n",
    "                    \n",
    "                    # Scrape individual course links\n",
    "                    courseLink.append(z.find(\"h2\").find(\"a\").get(\"href\"))\n",
    "                            \n",
    "                \n",
    "                except:\n",
    "                    courseTitle.append(\"na\")\n",
    "                    courseProvider.append(\"na\")\n",
    "                    duration.append(\"na\")\n",
    "                    offerPrice.append(\"na\")\n",
    "                    courseLink.append(\"na\")\n",
    "                    \n",
    "    # Execute this block is deal is missing                \n",
    "    else:\n",
    "        courseTitle.append(\"na\")\n",
    "        status.append(\"na\")\n",
    "        courseProvider.append(\"na\")\n",
    "        duration.append(\"na\")\n",
    "        offerPrice.append(\"na\")\n",
    "        courseLink.append(\"na\")\n",
    "    \n",
    "    # Get cover page links\n",
    "    for _ in range(len(courseTitle)):\n",
    "        coverPageLink.append(url)\n",
    "    \n",
    "    df = pd.DataFrame({\n",
    "        \"courseTitle\":courseTitle,\n",
    "        \"courseLink\":courseLink,\n",
    "        \"courseProvider\":courseProvider,\n",
    "        \"coverPageLink\":coverPageLink,\n",
    "        \"offerPrice\":offerPrice,\n",
    "        \"status\":status,\n",
    "        \"duration\":duration\n",
    "    })\n",
    "    return df\n",
    "\n",
    "def cleanAndEngineerFeatures(df):\n",
    "    \"\"\"Clean and Extract new features.\n",
    "    df = dataframe to clean and extract features from.\"\"\"\n",
    "    \n",
    "    # Extract offer price\n",
    "    df.offerPrice = df.offerPrice.str.split(\"USD\").str.get(1).str.strip().str.split(\" \").str.get(0)\n",
    "    \n",
    "    # Rename offer price\n",
    "    df.rename(columns={\"offerPrice\":\"offerPriceUSD\"}, inplace=True)\n",
    "    \n",
    "    # Extract broad and sub category\n",
    "    df[\"broadCategory\"] = df.coverPageLink.str.split(\"/\").str.get(4)\n",
    "    df[\"subCategory\"] = df.coverPageLink.str.split(\"/\").str.get(-2)\n",
    "    \n",
    "    # Extract page number to check the course ranking\n",
    "    df[\"whichPage\"] = df.coverPageLink.str.split(\"=\").str.get(-1)\n",
    "    \n",
    "    # Drop missing values\n",
    "    toDrop = df[df.courseTitle==\"na\"].index\n",
    "    df.drop(toDrop, axis=0, inplace=True)\n",
    "    return df"
   ]
  },
  {
   "cell_type": "code",
   "execution_count": 3,
   "metadata": {},
   "outputs": [],
   "source": [
    "# Scrape all cover pages links\n",
    "def scrapeCoverPageLink(url):\n",
    "    \n",
    "    # Generate cover page links\n",
    "    coverPageLink = generateCoverPageLink(url)\n",
    "    \n",
    "    # Generates all the cover page links with pagination\n",
    "    with ThreadPoolExecutor() as executor:\n",
    "        allCoverPageLink = list(executor.map(createPagination, coverPageLink))\n",
    "        allCoverPageLink = list(itertools.chain(*allCoverPageLink)) # Flattening the list\n",
    "    return allCoverPageLink"
   ]
  },
  {
   "cell_type": "code",
   "execution_count": 4,
   "metadata": {},
   "outputs": [
    {
     "name": "stdout",
     "output_type": "stream",
     "text": [
      "CPU times: user 2min 8s, sys: 24.9 s, total: 2min 32s\n",
      "Wall time: 1min 50s\n"
     ]
    }
   ],
   "source": [
    "%%time\n",
    "# Run this once\n",
    "allCoverPageLink = scrapeCoverPageLink(\"https://courses.laimoon.com/online/directory\")"
   ]
  },
  {
   "cell_type": "code",
   "execution_count": 5,
   "metadata": {},
   "outputs": [
    {
     "data": {
      "text/plain": [
       "14424"
      ]
     },
     "execution_count": 5,
     "metadata": {},
     "output_type": "execute_result"
    }
   ],
   "source": [
    "# No. of links to scrape\n",
    "len(allCoverPageLink)"
   ]
  },
  {
   "cell_type": "code",
   "execution_count": 6,
   "metadata": {},
   "outputs": [],
   "source": [
    "# Scrape course info in chunks\n",
    "def main(s1, s2):\n",
    "    \"\"\"Since we will scrape in chunks,\n",
    "    we need to slice all the cover page links.\n",
    "    s1 = start index, \n",
    "    s2 = end index.\"\"\"\n",
    "    \n",
    "    with ThreadPoolExecutor() as executor:\n",
    "        df = pd.concat(list(executor.map(scrapeCourseInfo, allCoverPageLink[s1:s2]))).reset_index(drop=True)\n",
    "    \n",
    "    cleanedDf = cleanAndEngineerFeatures(df)\n",
    "    return cleanedDf"
   ]
  },
  {
   "cell_type": "code",
   "execution_count": 7,
   "metadata": {},
   "outputs": [
    {
     "name": "stdout",
     "output_type": "stream",
     "text": [
      "CPU times: user 4min 30s, sys: 48.1 s, total: 5min 18s\n",
      "Wall time: 3min 47s\n"
     ]
    }
   ],
   "source": [
    "%%time\n",
    "# Scrape in chunks\n",
    "df1 = main(0, 1000)"
   ]
  },
  {
   "cell_type": "code",
   "execution_count": 8,
   "metadata": {},
   "outputs": [
    {
     "name": "stdout",
     "output_type": "stream",
     "text": [
      "CPU times: user 4min 8s, sys: 36 s, total: 4min 44s\n",
      "Wall time: 3min 59s\n"
     ]
    }
   ],
   "source": [
    "%%time\n",
    "df2 = main(1000, 2000)"
   ]
  },
  {
   "cell_type": "code",
   "execution_count": 9,
   "metadata": {},
   "outputs": [
    {
     "name": "stdout",
     "output_type": "stream",
     "text": [
      "CPU times: user 4min 3s, sys: 35.6 s, total: 4min 39s\n",
      "Wall time: 3min 56s\n"
     ]
    }
   ],
   "source": [
    "%%time\n",
    "df3 = main(2000, 3000)"
   ]
  },
  {
   "cell_type": "code",
   "execution_count": 10,
   "metadata": {},
   "outputs": [
    {
     "name": "stdout",
     "output_type": "stream",
     "text": [
      "CPU times: user 4min 6s, sys: 36.2 s, total: 4min 42s\n",
      "Wall time: 3min 55s\n"
     ]
    }
   ],
   "source": [
    "%%time\n",
    "df4 = main(3000, 4000)"
   ]
  },
  {
   "cell_type": "code",
   "execution_count": 11,
   "metadata": {},
   "outputs": [
    {
     "name": "stdout",
     "output_type": "stream",
     "text": [
      "CPU times: user 4min 34s, sys: 47.4 s, total: 5min 22s\n",
      "Wall time: 3min 55s\n"
     ]
    }
   ],
   "source": [
    "%%time\n",
    "df5 = main(4000, 5000)"
   ]
  },
  {
   "cell_type": "code",
   "execution_count": 12,
   "metadata": {},
   "outputs": [
    {
     "name": "stdout",
     "output_type": "stream",
     "text": [
      "CPU times: user 4min 34s, sys: 47.3 s, total: 5min 21s\n",
      "Wall time: 3min 55s\n"
     ]
    }
   ],
   "source": [
    "%%time\n",
    "df6 = main(5000, 6000)"
   ]
  },
  {
   "cell_type": "code",
   "execution_count": 13,
   "metadata": {},
   "outputs": [
    {
     "name": "stdout",
     "output_type": "stream",
     "text": [
      "CPU times: user 4min 26s, sys: 45.7 s, total: 5min 12s\n",
      "Wall time: 3min 49s\n"
     ]
    }
   ],
   "source": [
    "%%time\n",
    "df7 = main(6000, 7000)"
   ]
  },
  {
   "cell_type": "code",
   "execution_count": 14,
   "metadata": {},
   "outputs": [
    {
     "name": "stdout",
     "output_type": "stream",
     "text": [
      "CPU times: user 4min 29s, sys: 45.8 s, total: 5min 15s\n",
      "Wall time: 3min 46s\n"
     ]
    }
   ],
   "source": [
    "%%time\n",
    "df8 = main(7000, 8000)"
   ]
  },
  {
   "cell_type": "code",
   "execution_count": 15,
   "metadata": {},
   "outputs": [
    {
     "name": "stdout",
     "output_type": "stream",
     "text": [
      "CPU times: user 4min 24s, sys: 45.4 s, total: 5min 10s\n",
      "Wall time: 3min 46s\n"
     ]
    }
   ],
   "source": [
    "%%time\n",
    "df9 = main(8000, 9000)"
   ]
  },
  {
   "cell_type": "code",
   "execution_count": 16,
   "metadata": {},
   "outputs": [
    {
     "name": "stdout",
     "output_type": "stream",
     "text": [
      "CPU times: user 4min 35s, sys: 47 s, total: 5min 22s\n",
      "Wall time: 3min 54s\n"
     ]
    }
   ],
   "source": [
    "%%time\n",
    "df10 = main(9000, 10000)"
   ]
  },
  {
   "cell_type": "code",
   "execution_count": 17,
   "metadata": {},
   "outputs": [
    {
     "name": "stdout",
     "output_type": "stream",
     "text": [
      "CPU times: user 4min 38s, sys: 48.8 s, total: 5min 27s\n",
      "Wall time: 3min 56s\n"
     ]
    }
   ],
   "source": [
    "%%time\n",
    "df11 = main(10000, 11000)"
   ]
  },
  {
   "cell_type": "code",
   "execution_count": 18,
   "metadata": {},
   "outputs": [
    {
     "name": "stdout",
     "output_type": "stream",
     "text": [
      "CPU times: user 4min 35s, sys: 47.6 s, total: 5min 22s\n",
      "Wall time: 3min 52s\n"
     ]
    }
   ],
   "source": [
    "%%time\n",
    "df12 = main(11000, 12000)"
   ]
  },
  {
   "cell_type": "code",
   "execution_count": 19,
   "metadata": {},
   "outputs": [
    {
     "name": "stdout",
     "output_type": "stream",
     "text": [
      "CPU times: user 4min 30s, sys: 46.4 s, total: 5min 17s\n",
      "Wall time: 3min 48s\n"
     ]
    }
   ],
   "source": [
    "%%time\n",
    "df13 = main(12000, 13000)"
   ]
  },
  {
   "cell_type": "code",
   "execution_count": 20,
   "metadata": {},
   "outputs": [
    {
     "name": "stdout",
     "output_type": "stream",
     "text": [
      "CPU times: user 6min 21s, sys: 1min 5s, total: 7min 27s\n",
      "Wall time: 5min 22s\n"
     ]
    }
   ],
   "source": [
    "%%time\n",
    "# 13000 to till the end\n",
    "df14 = main(13000, None)"
   ]
  },
  {
   "cell_type": "code",
   "execution_count": 21,
   "metadata": {},
   "outputs": [
    {
     "data": {
      "text/html": [
       "<div>\n",
       "<style scoped>\n",
       "    .dataframe tbody tr th:only-of-type {\n",
       "        vertical-align: middle;\n",
       "    }\n",
       "\n",
       "    .dataframe tbody tr th {\n",
       "        vertical-align: top;\n",
       "    }\n",
       "\n",
       "    .dataframe thead th {\n",
       "        text-align: right;\n",
       "    }\n",
       "</style>\n",
       "<table border=\"1\" class=\"dataframe\">\n",
       "  <thead>\n",
       "    <tr style=\"text-align: right;\">\n",
       "      <th></th>\n",
       "      <th>courseTitle</th>\n",
       "      <th>courseLink</th>\n",
       "      <th>courseProvider</th>\n",
       "      <th>coverPageLink</th>\n",
       "      <th>offerPriceUSD</th>\n",
       "      <th>status</th>\n",
       "      <th>duration</th>\n",
       "      <th>broadCategory</th>\n",
       "      <th>subCategory</th>\n",
       "      <th>whichPage</th>\n",
       "    </tr>\n",
       "  </thead>\n",
       "  <tbody>\n",
       "    <tr>\n",
       "      <th>0</th>\n",
       "      <td>REVIT STRUCTURE</td>\n",
       "      <td>https://courses.laimoon.com/course/autodesk-re...</td>\n",
       "      <td>Al Mihad Training Centre</td>\n",
       "      <td>https://courses.laimoon.com/online/engineering...</td>\n",
       "      <td>374</td>\n",
       "      <td>active</td>\n",
       "      <td>Upto 60 Hours</td>\n",
       "      <td>engineering</td>\n",
       "      <td>civil-engineering</td>\n",
       "      <td>1</td>\n",
       "    </tr>\n",
       "    <tr>\n",
       "      <th>1</th>\n",
       "      <td>AUTOCAD</td>\n",
       "      <td>https://courses.laimoon.com/course/autodesk-au...</td>\n",
       "      <td>Al Mihad Training Centre</td>\n",
       "      <td>https://courses.laimoon.com/online/engineering...</td>\n",
       "      <td>286</td>\n",
       "      <td>active</td>\n",
       "      <td>Upto 45 Hours</td>\n",
       "      <td>engineering</td>\n",
       "      <td>civil-engineering</td>\n",
       "      <td>1</td>\n",
       "    </tr>\n",
       "    <tr>\n",
       "      <th>2</th>\n",
       "      <td>3DS MAX WITH V-RAY</td>\n",
       "      <td>https://courses.laimoon.com/course/autodesk-3d...</td>\n",
       "      <td>Al Mihad Training Centre</td>\n",
       "      <td>https://courses.laimoon.com/online/engineering...</td>\n",
       "      <td>510</td>\n",
       "      <td>active</td>\n",
       "      <td>Upto 60 Hours</td>\n",
       "      <td>engineering</td>\n",
       "      <td>civil-engineering</td>\n",
       "      <td>1</td>\n",
       "    </tr>\n",
       "    <tr>\n",
       "      <th>3</th>\n",
       "      <td>Revit Dynamo with Python Scripting</td>\n",
       "      <td>https://courses.laimoon.com/course/autodesk-re...</td>\n",
       "      <td>Al Mihad Training Centre</td>\n",
       "      <td>https://courses.laimoon.com/online/engineering...</td>\n",
       "      <td>408</td>\n",
       "      <td>active</td>\n",
       "      <td>Upto 40 Hours</td>\n",
       "      <td>engineering</td>\n",
       "      <td>civil-engineering</td>\n",
       "      <td>1</td>\n",
       "    </tr>\n",
       "    <tr>\n",
       "      <th>4</th>\n",
       "      <td>SYNCHRO 4D CONSTRUCTION PLANNING</td>\n",
       "      <td>https://courses.laimoon.com/course/synchro-pro...</td>\n",
       "      <td>Al Mihad Training Centre</td>\n",
       "      <td>https://courses.laimoon.com/online/engineering...</td>\n",
       "      <td>490</td>\n",
       "      <td>active</td>\n",
       "      <td>Upto 35 Hours</td>\n",
       "      <td>engineering</td>\n",
       "      <td>civil-engineering</td>\n",
       "      <td>1</td>\n",
       "    </tr>\n",
       "    <tr>\n",
       "      <th>5</th>\n",
       "      <td>PRIMAVERA P6</td>\n",
       "      <td>https://courses.laimoon.com/course/advanced-pr...</td>\n",
       "      <td>Al Mihad Training Centre</td>\n",
       "      <td>https://courses.laimoon.com/online/engineering...</td>\n",
       "      <td>381</td>\n",
       "      <td>active</td>\n",
       "      <td>Upto 40 Hours</td>\n",
       "      <td>engineering</td>\n",
       "      <td>civil-engineering</td>\n",
       "      <td>2</td>\n",
       "    </tr>\n",
       "    <tr>\n",
       "      <th>6</th>\n",
       "      <td>Rhinoceros with Vray</td>\n",
       "      <td>https://courses.laimoon.com/course/rhinoceros-...</td>\n",
       "      <td>Al Mihad Training Centre</td>\n",
       "      <td>https://courses.laimoon.com/online/engineering...</td>\n",
       "      <td>510</td>\n",
       "      <td>active</td>\n",
       "      <td>Upto 45 Hours</td>\n",
       "      <td>engineering</td>\n",
       "      <td>civil-engineering</td>\n",
       "      <td>2</td>\n",
       "    </tr>\n",
       "    <tr>\n",
       "      <th>7</th>\n",
       "      <td>RHINOCEROS WITH GRASSHOPPER</td>\n",
       "      <td>https://courses.laimoon.com/course/rhino-grass...</td>\n",
       "      <td>Al Mihad Training Centre</td>\n",
       "      <td>https://courses.laimoon.com/online/engineering...</td>\n",
       "      <td>667</td>\n",
       "      <td>active</td>\n",
       "      <td>Upto 35 Hours</td>\n",
       "      <td>engineering</td>\n",
       "      <td>civil-engineering</td>\n",
       "      <td>2</td>\n",
       "    </tr>\n",
       "    <tr>\n",
       "      <th>8</th>\n",
       "      <td>BIM - Building Information with Revit</td>\n",
       "      <td>https://courses.laimoon.com/course/part-time-b...</td>\n",
       "      <td>Al Mihad Training Centre</td>\n",
       "      <td>https://courses.laimoon.com/online/engineering...</td>\n",
       "      <td>1,225</td>\n",
       "      <td>active</td>\n",
       "      <td>Upto 120 Hours</td>\n",
       "      <td>engineering</td>\n",
       "      <td>civil-engineering</td>\n",
       "      <td>2</td>\n",
       "    </tr>\n",
       "    <tr>\n",
       "      <th>9</th>\n",
       "      <td>Auto Cad Civil 3D</td>\n",
       "      <td>https://courses.laimoon.com/course/auto-cad-ci...</td>\n",
       "      <td>Elegant Training Center</td>\n",
       "      <td>https://courses.laimoon.com/online/engineering...</td>\n",
       "      <td>429</td>\n",
       "      <td>active</td>\n",
       "      <td>Upto 24 Hours</td>\n",
       "      <td>engineering</td>\n",
       "      <td>civil-engineering</td>\n",
       "      <td>2</td>\n",
       "    </tr>\n",
       "  </tbody>\n",
       "</table>\n",
       "</div>"
      ],
      "text/plain": [
       "                             courseTitle  \\\n",
       "0                        REVIT STRUCTURE   \n",
       "1                                AUTOCAD   \n",
       "2                     3DS MAX WITH V-RAY   \n",
       "3     Revit Dynamo with Python Scripting   \n",
       "4       SYNCHRO 4D CONSTRUCTION PLANNING   \n",
       "5                           PRIMAVERA P6   \n",
       "6                   Rhinoceros with Vray   \n",
       "7            RHINOCEROS WITH GRASSHOPPER   \n",
       "8  BIM - Building Information with Revit   \n",
       "9                      Auto Cad Civil 3D   \n",
       "\n",
       "                                          courseLink  \\\n",
       "0  https://courses.laimoon.com/course/autodesk-re...   \n",
       "1  https://courses.laimoon.com/course/autodesk-au...   \n",
       "2  https://courses.laimoon.com/course/autodesk-3d...   \n",
       "3  https://courses.laimoon.com/course/autodesk-re...   \n",
       "4  https://courses.laimoon.com/course/synchro-pro...   \n",
       "5  https://courses.laimoon.com/course/advanced-pr...   \n",
       "6  https://courses.laimoon.com/course/rhinoceros-...   \n",
       "7  https://courses.laimoon.com/course/rhino-grass...   \n",
       "8  https://courses.laimoon.com/course/part-time-b...   \n",
       "9  https://courses.laimoon.com/course/auto-cad-ci...   \n",
       "\n",
       "             courseProvider  \\\n",
       "0  Al Mihad Training Centre   \n",
       "1  Al Mihad Training Centre   \n",
       "2  Al Mihad Training Centre   \n",
       "3  Al Mihad Training Centre   \n",
       "4  Al Mihad Training Centre   \n",
       "5  Al Mihad Training Centre   \n",
       "6  Al Mihad Training Centre   \n",
       "7  Al Mihad Training Centre   \n",
       "8  Al Mihad Training Centre   \n",
       "9   Elegant Training Center   \n",
       "\n",
       "                                       coverPageLink offerPriceUSD  status  \\\n",
       "0  https://courses.laimoon.com/online/engineering...           374  active   \n",
       "1  https://courses.laimoon.com/online/engineering...           286  active   \n",
       "2  https://courses.laimoon.com/online/engineering...           510  active   \n",
       "3  https://courses.laimoon.com/online/engineering...           408  active   \n",
       "4  https://courses.laimoon.com/online/engineering...           490  active   \n",
       "5  https://courses.laimoon.com/online/engineering...           381  active   \n",
       "6  https://courses.laimoon.com/online/engineering...           510  active   \n",
       "7  https://courses.laimoon.com/online/engineering...           667  active   \n",
       "8  https://courses.laimoon.com/online/engineering...         1,225  active   \n",
       "9  https://courses.laimoon.com/online/engineering...           429  active   \n",
       "\n",
       "         duration broadCategory        subCategory whichPage  \n",
       "0   Upto 60 Hours   engineering  civil-engineering         1  \n",
       "1   Upto 45 Hours   engineering  civil-engineering         1  \n",
       "2   Upto 60 Hours   engineering  civil-engineering         1  \n",
       "3   Upto 40 Hours   engineering  civil-engineering         1  \n",
       "4   Upto 35 Hours   engineering  civil-engineering         1  \n",
       "5   Upto 40 Hours   engineering  civil-engineering         2  \n",
       "6   Upto 45 Hours   engineering  civil-engineering         2  \n",
       "7   Upto 35 Hours   engineering  civil-engineering         2  \n",
       "8  Upto 120 Hours   engineering  civil-engineering         2  \n",
       "9   Upto 24 Hours   engineering  civil-engineering         2  "
      ]
     },
     "execution_count": 21,
     "metadata": {},
     "output_type": "execute_result"
    }
   ],
   "source": [
    "# Concat all the dfs\n",
    "masterDf = pd.concat([\n",
    "    df1,\n",
    "    df2,\n",
    "    df3,\n",
    "    df4,\n",
    "    df5,\n",
    "    df6,\n",
    "    df7,\n",
    "    df8,\n",
    "    df9,\n",
    "    df10,\n",
    "    df11,\n",
    "    df12,\n",
    "    df13,\n",
    "    df14\n",
    "])\n",
    "\n",
    "# Drop duplicates if any\n",
    "masterDf = masterDf.drop_duplicates(keep=\"first\").reset_index(drop=True)\n",
    "\n",
    "# Let's see what we have\n",
    "masterDf.head(10)"
   ]
  },
  {
   "cell_type": "code",
   "execution_count": 22,
   "metadata": {},
   "outputs": [],
   "source": [
    "# Save as a csv file\n",
    "masterDf.to_csv(f\"laimoon_{today}.csv\", index=None)"
   ]
  }
 ],
 "metadata": {
  "kernelspec": {
   "display_name": "Python 3",
   "language": "python",
   "name": "python3"
  },
  "language_info": {
   "codemirror_mode": {
    "name": "ipython",
    "version": 3
   },
   "file_extension": ".py",
   "mimetype": "text/x-python",
   "name": "python",
   "nbconvert_exporter": "python",
   "pygments_lexer": "ipython3",
   "version": "3.7.6"
  }
 },
 "nbformat": 4,
 "nbformat_minor": 4
}
